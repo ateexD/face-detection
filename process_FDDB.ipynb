{
 "cells": [
  {
   "cell_type": "code",
   "execution_count": 1,
   "metadata": {
    "ExecuteTime": {
     "end_time": "2019-05-04T00:07:54.598686Z",
     "start_time": "2019-05-04T00:07:54.027326Z"
    }
   },
   "outputs": [],
   "source": [
    "import os\n",
    "import cv2\n",
    "import glob\n",
    "\n",
    "import numpy as np\n",
    "import matplotlib.pyplot as plt"
   ]
  },
  {
   "cell_type": "code",
   "execution_count": 2,
   "metadata": {
    "ExecuteTime": {
     "end_time": "2019-05-04T00:07:54.607205Z",
     "start_time": "2019-05-04T00:07:54.600754Z"
    }
   },
   "outputs": [
    {
     "name": "stdout",
     "output_type": "stream",
     "text": [
      "/Users/ateendraramesh/Desktop/CSE573/data/FDDB-folds\n"
     ]
    }
   ],
   "source": [
    "cd ~/Desktop/CSE573/data/FDDB-folds/"
   ]
  },
  {
   "cell_type": "code",
   "execution_count": 3,
   "metadata": {
    "ExecuteTime": {
     "end_time": "2019-05-04T00:07:54.611728Z",
     "start_time": "2019-05-04T00:07:54.608820Z"
    }
   },
   "outputs": [],
   "source": [
    "def plot_img(img):\n",
    "    plt.imshow(img)\n",
    "    plt.show()\n",
    "    return    "
   ]
  },
  {
   "cell_type": "code",
   "execution_count": 4,
   "metadata": {
    "ExecuteTime": {
     "end_time": "2019-05-04T00:07:54.774878Z",
     "start_time": "2019-05-04T00:07:54.646287Z"
    }
   },
   "outputs": [],
   "source": [
    "# Referred : https://github.com/nouiz/lisa_emotiw/blob/master/emotiw/common/datasets/faces/FDDB.py \n",
    "img_dict = {}\n",
    "for txt_file in glob.glob(\"*-ellipseList.txt\"):\n",
    "    f = open(txt_file, 'r')\n",
    "\n",
    "\n",
    "    while True:\n",
    "        img_path = os.path.abspath(\"../\" + f.readline()[:-1] + \".jpg\")\n",
    "        if img_path == \"../.jpg\":\n",
    "            break\n",
    "        try:\n",
    "            num_faces = int(f.readline())\n",
    "        except:\n",
    "            break\n",
    "        faces = []\n",
    "\n",
    "        for _ in range(num_faces):\n",
    "            ellipse = f.readline()[:-1]\n",
    "            faces.append([float(x) for x in ellipse.split(\"  \")[0].split(\" \")])\n",
    "\n",
    "        img_dict[img_path] = faces"
   ]
  },
  {
   "cell_type": "code",
   "execution_count": 10,
   "metadata": {
    "ExecuteTime": {
     "end_time": "2019-05-04T00:12:04.997304Z",
     "start_time": "2019-05-04T00:11:50.060797Z"
    },
    "scrolled": false
   },
   "outputs": [],
   "source": [
    "counter = 0\n",
    "for path in img_dict:\n",
    "    for ellipse in img_dict[path]:\n",
    "        maj_rad = ellipse[0]\n",
    "        min_rad = ellipse[1]\n",
    "        angle = ellipse[2]\n",
    "        xcenter = ellipse[3]\n",
    "        ycenter = ellipse[4]\n",
    "        cosin = np.cos(np.radians(-angle))\n",
    "        sin = np.sin(np.radians(-angle))\n",
    "\n",
    "        x1 = cosin * (-min_rad) - sin * (-maj_rad) + xcenter\n",
    "        y1 = sin * (-min_rad) + cosin * (-maj_rad) + ycenter\n",
    "        x2 = cosin * (min_rad) - sin * (-maj_rad) + xcenter\n",
    "        y2 = sin * (min_rad) + cosin * (-maj_rad) + ycenter\n",
    "        x3 = cosin * (min_rad) - sin * (maj_rad) + xcenter\n",
    "        y3 = sin * (min_rad) + cosin * (maj_rad) + ycenter\n",
    "        x4 = cosin * (-min_rad) - sin * (maj_rad) + xcenter\n",
    "        y4 = sin * (-min_rad) + cosin * (maj_rad) + ycenter\n",
    "\n",
    "        w = [x1, x2, x3, x4]\n",
    "        h = [y1, y2, y3, y4]\n",
    "\n",
    "        img = cv2.imread(path)\n",
    "        x2, x4 = int(x2), int(x4)\n",
    "        y2, y4 = int(y2), int(y4)\n",
    "        x2, x4, y2, y4 = max(x2, 0), max(x4, 0), max(y2, 0), max(y4, 0)\n",
    "        x_, y_ = min(x2, x4), min(y2, y4)\n",
    "        x__, y__ = max(x2, x4), max(y2, y4)\n",
    "        img = img[y_: y__, x_: x__]\n",
    "\n",
    "        cv2.imwrite(\"/Users/ateendraramesh/Desktop/CSE573/faces/\" + str(counter) + \".jpg\", cv2.resize(img, (24, 24)))\n",
    "        counter += 1"
   ]
  },
  {
   "cell_type": "code",
   "execution_count": null,
   "metadata": {},
   "outputs": [],
   "source": []
  }
 ],
 "metadata": {
  "kernelspec": {
   "display_name": "Python 3",
   "language": "python",
   "name": "python3"
  },
  "language_info": {
   "codemirror_mode": {
    "name": "ipython",
    "version": 3
   },
   "file_extension": ".py",
   "mimetype": "text/x-python",
   "name": "python",
   "nbconvert_exporter": "python",
   "pygments_lexer": "ipython3",
   "version": "3.6.5"
  }
 },
 "nbformat": 4,
 "nbformat_minor": 2
}
